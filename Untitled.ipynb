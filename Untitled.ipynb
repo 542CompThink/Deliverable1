{
 "cells": [
  {
   "cell_type": "code",
   "execution_count": 5,
   "id": "2af564ae",
   "metadata": {},
   "outputs": [
    {
     "data": {
      "text/html": [
       "\n",
       "        <iframe\n",
       "            width=\"700\"\n",
       "            height=\"300\"\n",
       "            src=\"https://en.wikipedia.org/wiki/LGBT_demographics_of_the_United_States\"\n",
       "            frameborder=\"0\"\n",
       "            allowfullscreen\n",
       "            \n",
       "        ></iframe>\n",
       "        "
      ],
      "text/plain": [
       "<IPython.lib.display.IFrame at 0x7fed8cb5cc40>"
      ]
     },
     "execution_count": 5,
     "metadata": {},
     "output_type": "execute_result"
    }
   ],
   "source": [
    "wikiLink=\"https://en.wikipedia.org/wiki/LGBT_demographics_of_the_United_States\"\n",
    "IFrame(wikiLink, width=700, height=300)"
   ]
  },
  {
   "cell_type": "code",
   "execution_count": null,
   "id": "e9a32f31",
   "metadata": {},
   "outputs": [],
   "source": [
    "WikiList2=pd.read_html(wikiLink,\n",
    "                    header=0,\n",
    "                    flavor='bs4',\n",
    "                    attrs={'class': 'wikitable'})# very important"
   ]
  },
  {
   "cell_type": "code",
   "execution_count": null,
   "id": "fd8b4105",
   "metadata": {},
   "outputs": [],
   "source": [
    "WikiList2[0]"
   ]
  },
  {
   "cell_type": "code",
   "execution_count": 2,
   "id": "71a6e4ed",
   "metadata": {},
   "outputs": [],
   "source": [
    "# call pandas\n",
    "import pandas as pd # 'pd' is a nickname"
   ]
  },
  {
   "cell_type": "code",
   "execution_count": 4,
   "id": "a80fa0f7",
   "metadata": {},
   "outputs": [],
   "source": [
    "from IPython.display import IFrame  "
   ]
  },
  {
   "cell_type": "code",
   "execution_count": null,
   "id": "48f6a25c",
   "metadata": {},
   "outputs": [],
   "source": []
  },
  {
   "cell_type": "code",
   "execution_count": null,
   "id": "aa6f9a23",
   "metadata": {},
   "outputs": [],
   "source": []
  },
  {
   "cell_type": "code",
   "execution_count": null,
   "id": "07ef021b",
   "metadata": {},
   "outputs": [],
   "source": []
  }
 ],
 "metadata": {
  "kernelspec": {
   "display_name": "Python 3 (ipykernel)",
   "language": "python",
   "name": "python3"
  },
  "language_info": {
   "codemirror_mode": {
    "name": "ipython",
    "version": 3
   },
   "file_extension": ".py",
   "mimetype": "text/x-python",
   "name": "python",
   "nbconvert_exporter": "python",
   "pygments_lexer": "ipython3",
   "version": "3.9.15"
  }
 },
 "nbformat": 4,
 "nbformat_minor": 5
}
