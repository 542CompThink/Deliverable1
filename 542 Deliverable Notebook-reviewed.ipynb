{
 "cells": [
  {
   "cell_type": "code",
   "execution_count": 1,
   "id": "059e3597",
   "metadata": {},
   "outputs": [],
   "source": [
    "# call pandas\n",
    "import pandas as pd # 'pd' is a nickname"
   ]
  },
  {
   "cell_type": "code",
   "execution_count": 2,
   "id": "47f36ebb",
   "metadata": {},
   "outputs": [],
   "source": [
    "# Uploading CVS dataset\n",
    "# use a function from pandas to read the cloud data into a Python object\n",
    "gitCloudRepo='https://github.com/542CompThink/Deliverable1/raw/main/'\n",
    "fileName=\"airports.csv\""
   ]
  },
  {
   "cell_type": "code",
   "execution_count": 3,
   "id": "01a30527",
   "metadata": {},
   "outputs": [],
   "source": [
    "AirwaysData=pd.read_csv(gitCloudRepo + fileName)"
   ]
  },
  {
   "cell_type": "code",
   "execution_count": 4,
   "id": "a23c5ecb",
   "metadata": {},
   "outputs": [
    {
     "data": {
      "text/html": [
       "<div>\n",
       "<style scoped>\n",
       "    .dataframe tbody tr th:only-of-type {\n",
       "        vertical-align: middle;\n",
       "    }\n",
       "\n",
       "    .dataframe tbody tr th {\n",
       "        vertical-align: top;\n",
       "    }\n",
       "\n",
       "    .dataframe thead th {\n",
       "        text-align: right;\n",
       "    }\n",
       "</style>\n",
       "<table border=\"1\" class=\"dataframe\">\n",
       "  <thead>\n",
       "    <tr style=\"text-align: right;\">\n",
       "      <th></th>\n",
       "      <th>name</th>\n",
       "      <th>slug</th>\n",
       "      <th>value</th>\n",
       "      <th>date_of_information</th>\n",
       "      <th>ranking</th>\n",
       "      <th>region</th>\n",
       "    </tr>\n",
       "  </thead>\n",
       "  <tbody>\n",
       "    <tr>\n",
       "      <th>0</th>\n",
       "      <td>United States</td>\n",
       "      <td>united-states</td>\n",
       "      <td>13,513</td>\n",
       "      <td>2022</td>\n",
       "      <td>1</td>\n",
       "      <td>North America</td>\n",
       "    </tr>\n",
       "    <tr>\n",
       "      <th>1</th>\n",
       "      <td>Brazil</td>\n",
       "      <td>brazil</td>\n",
       "      <td>4,093</td>\n",
       "      <td>2021</td>\n",
       "      <td>2</td>\n",
       "      <td>South America</td>\n",
       "    </tr>\n",
       "    <tr>\n",
       "      <th>2</th>\n",
       "      <td>Mexico</td>\n",
       "      <td>mexico</td>\n",
       "      <td>1,714</td>\n",
       "      <td>2021</td>\n",
       "      <td>3</td>\n",
       "      <td>North America</td>\n",
       "    </tr>\n",
       "    <tr>\n",
       "      <th>3</th>\n",
       "      <td>Canada</td>\n",
       "      <td>canada</td>\n",
       "      <td>1,467</td>\n",
       "      <td>2021</td>\n",
       "      <td>4</td>\n",
       "      <td>North America</td>\n",
       "    </tr>\n",
       "    <tr>\n",
       "      <th>4</th>\n",
       "      <td>Russia</td>\n",
       "      <td>russia</td>\n",
       "      <td>1,218</td>\n",
       "      <td>2021</td>\n",
       "      <td>5</td>\n",
       "      <td>Central Asia</td>\n",
       "    </tr>\n",
       "    <tr>\n",
       "      <th>...</th>\n",
       "      <td>...</td>\n",
       "      <td>...</td>\n",
       "      <td>...</td>\n",
       "      <td>...</td>\n",
       "      <td>...</td>\n",
       "      <td>...</td>\n",
       "    </tr>\n",
       "    <tr>\n",
       "      <th>232</th>\n",
       "      <td>Saint Barthelemy</td>\n",
       "      <td>saint-barthelemy</td>\n",
       "      <td>1</td>\n",
       "      <td>2021</td>\n",
       "      <td>233</td>\n",
       "      <td>Central America and the Caribbean</td>\n",
       "    </tr>\n",
       "    <tr>\n",
       "      <th>233</th>\n",
       "      <td>Saint Martin</td>\n",
       "      <td>saint-martin</td>\n",
       "      <td>1</td>\n",
       "      <td>2021</td>\n",
       "      <td>234</td>\n",
       "      <td>Central America and the Caribbean</td>\n",
       "    </tr>\n",
       "    <tr>\n",
       "      <th>234</th>\n",
       "      <td>Sint Maarten</td>\n",
       "      <td>sint-maarten</td>\n",
       "      <td>1</td>\n",
       "      <td>2021</td>\n",
       "      <td>235</td>\n",
       "      <td>Central America and the Caribbean</td>\n",
       "    </tr>\n",
       "    <tr>\n",
       "      <th>235</th>\n",
       "      <td>Tuvalu</td>\n",
       "      <td>tuvalu</td>\n",
       "      <td>1</td>\n",
       "      <td>2021</td>\n",
       "      <td>236</td>\n",
       "      <td>Australia and Oceania</td>\n",
       "    </tr>\n",
       "    <tr>\n",
       "      <th>236</th>\n",
       "      <td>Wake Island</td>\n",
       "      <td>wake-island</td>\n",
       "      <td>1</td>\n",
       "      <td>2021</td>\n",
       "      <td>237</td>\n",
       "      <td>Australia and Oceania</td>\n",
       "    </tr>\n",
       "  </tbody>\n",
       "</table>\n",
       "<p>237 rows × 6 columns</p>\n",
       "</div>"
      ],
      "text/plain": [
       "                 name              slug   value  date_of_information  ranking  \\\n",
       "0       United States     united-states  13,513                 2022        1   \n",
       "1              Brazil            brazil   4,093                 2021        2   \n",
       "2              Mexico            mexico   1,714                 2021        3   \n",
       "3              Canada            canada   1,467                 2021        4   \n",
       "4              Russia            russia   1,218                 2021        5   \n",
       "..                ...               ...     ...                  ...      ...   \n",
       "232  Saint Barthelemy  saint-barthelemy       1                 2021      233   \n",
       "233      Saint Martin      saint-martin       1                 2021      234   \n",
       "234      Sint Maarten      sint-maarten       1                 2021      235   \n",
       "235            Tuvalu            tuvalu       1                 2021      236   \n",
       "236       Wake Island       wake-island       1                 2021      237   \n",
       "\n",
       "                                region  \n",
       "0                        North America  \n",
       "1                        South America  \n",
       "2                        North America  \n",
       "3                        North America  \n",
       "4                         Central Asia  \n",
       "..                                 ...  \n",
       "232  Central America and the Caribbean  \n",
       "233  Central America and the Caribbean  \n",
       "234  Central America and the Caribbean  \n",
       "235              Australia and Oceania  \n",
       "236              Australia and Oceania  \n",
       "\n",
       "[237 rows x 6 columns]"
      ]
     },
     "execution_count": 4,
     "metadata": {},
     "output_type": "execute_result"
    }
   ],
   "source": [
    "AirwaysData"
   ]
  },
  {
   "cell_type": "code",
   "execution_count": 6,
   "id": "83b6c394",
   "metadata": {},
   "outputs": [
    {
     "data": {
      "text/html": [
       "<div>\n",
       "<style scoped>\n",
       "    .dataframe tbody tr th:only-of-type {\n",
       "        vertical-align: middle;\n",
       "    }\n",
       "\n",
       "    .dataframe tbody tr th {\n",
       "        vertical-align: top;\n",
       "    }\n",
       "\n",
       "    .dataframe thead th {\n",
       "        text-align: right;\n",
       "    }\n",
       "</style>\n",
       "<table border=\"1\" class=\"dataframe\">\n",
       "  <thead>\n",
       "    <tr style=\"text-align: right;\">\n",
       "      <th></th>\n",
       "      <th>name</th>\n",
       "      <th>slug</th>\n",
       "      <th>value</th>\n",
       "    </tr>\n",
       "  </thead>\n",
       "  <tbody>\n",
       "    <tr>\n",
       "      <th>0</th>\n",
       "      <td>United States</td>\n",
       "      <td>united-states</td>\n",
       "      <td>13,513</td>\n",
       "    </tr>\n",
       "    <tr>\n",
       "      <th>1</th>\n",
       "      <td>Brazil</td>\n",
       "      <td>brazil</td>\n",
       "      <td>4,093</td>\n",
       "    </tr>\n",
       "    <tr>\n",
       "      <th>2</th>\n",
       "      <td>Mexico</td>\n",
       "      <td>mexico</td>\n",
       "      <td>1,714</td>\n",
       "    </tr>\n",
       "    <tr>\n",
       "      <th>3</th>\n",
       "      <td>Canada</td>\n",
       "      <td>canada</td>\n",
       "      <td>1,467</td>\n",
       "    </tr>\n",
       "    <tr>\n",
       "      <th>4</th>\n",
       "      <td>Russia</td>\n",
       "      <td>russia</td>\n",
       "      <td>1,218</td>\n",
       "    </tr>\n",
       "  </tbody>\n",
       "</table>\n",
       "</div>"
      ],
      "text/plain": [
       "            name           slug   value\n",
       "0  United States  united-states  13,513\n",
       "1         Brazil         brazil   4,093\n",
       "2         Mexico         mexico   1,714\n",
       "3         Canada         canada   1,467\n",
       "4         Russia         russia   1,218"
      ]
     },
     "execution_count": 6,
     "metadata": {},
     "output_type": "execute_result"
    }
   ],
   "source": [
    "AirwaysData=AirwaysData.iloc[:,:3]\n",
    "AirwaysData.head()"
   ]
  },
  {
   "cell_type": "code",
   "execution_count": 8,
   "id": "de89f19b",
   "metadata": {},
   "outputs": [
    {
     "data": {
      "text/plain": [
       "0      13513\n",
       "1       4093\n",
       "2       1714\n",
       "3       1467\n",
       "4       1218\n",
       "       ...  \n",
       "232        1\n",
       "233        1\n",
       "234        1\n",
       "235        1\n",
       "236        1\n",
       "Name: value, Length: 237, dtype: object"
      ]
     },
     "execution_count": 8,
     "metadata": {},
     "output_type": "execute_result"
    }
   ],
   "source": [
    "AirwaysData.value.str.replace(\",\",\"\",regex=False)"
   ]
  },
  {
   "cell_type": "code",
   "execution_count": 9,
   "id": "e471fb94",
   "metadata": {},
   "outputs": [],
   "source": [
    "AirwaysData.value=AirwaysData.value.str.replace(\",\",\"\",regex=False)"
   ]
  },
  {
   "cell_type": "code",
   "execution_count": 10,
   "id": "50aa8e19",
   "metadata": {},
   "outputs": [
    {
     "name": "stdout",
     "output_type": "stream",
     "text": [
      "<class 'pandas.core.frame.DataFrame'>\n",
      "RangeIndex: 237 entries, 0 to 236\n",
      "Data columns (total 3 columns):\n",
      " #   Column  Non-Null Count  Dtype \n",
      "---  ------  --------------  ----- \n",
      " 0   name    237 non-null    object\n",
      " 1   slug    237 non-null    object\n",
      " 2   value   237 non-null    object\n",
      "dtypes: object(3)\n",
      "memory usage: 5.7+ KB\n"
     ]
    }
   ],
   "source": [
    "AirwaysData.info()"
   ]
  },
  {
   "cell_type": "code",
   "execution_count": 11,
   "id": "153c0cd9",
   "metadata": {},
   "outputs": [
    {
     "data": {
      "text/plain": [
       "0      13513\n",
       "1       4093\n",
       "2       1714\n",
       "3       1467\n",
       "4       1218\n",
       "       ...  \n",
       "232        1\n",
       "233        1\n",
       "234        1\n",
       "235        1\n",
       "236        1\n",
       "Name: value, Length: 237, dtype: int64"
      ]
     },
     "execution_count": 11,
     "metadata": {},
     "output_type": "execute_result"
    }
   ],
   "source": [
    "pd.to_numeric(AirwaysData.value,errors='coerce')"
   ]
  },
  {
   "cell_type": "code",
   "execution_count": 12,
   "id": "7fb784b0",
   "metadata": {},
   "outputs": [],
   "source": [
    "AirwaysData.value=pd.to_numeric(AirwaysData.value,errors='coerce')"
   ]
  },
  {
   "cell_type": "code",
   "execution_count": 13,
   "id": "1962adcd",
   "metadata": {},
   "outputs": [
    {
     "name": "stdout",
     "output_type": "stream",
     "text": [
      "<class 'pandas.core.frame.DataFrame'>\n",
      "RangeIndex: 237 entries, 0 to 236\n",
      "Data columns (total 3 columns):\n",
      " #   Column  Non-Null Count  Dtype \n",
      "---  ------  --------------  ----- \n",
      " 0   name    237 non-null    object\n",
      " 1   slug    237 non-null    object\n",
      " 2   value   237 non-null    int64 \n",
      "dtypes: int64(1), object(2)\n",
      "memory usage: 5.7+ KB\n"
     ]
    }
   ],
   "source": [
    "AirwaysData.info()"
   ]
  },
  {
   "cell_type": "code",
   "execution_count": 15,
   "id": "e08ca0f8",
   "metadata": {},
   "outputs": [
    {
     "data": {
      "text/html": [
       "<div>\n",
       "<style scoped>\n",
       "    .dataframe tbody tr th:only-of-type {\n",
       "        vertical-align: middle;\n",
       "    }\n",
       "\n",
       "    .dataframe tbody tr th {\n",
       "        vertical-align: top;\n",
       "    }\n",
       "\n",
       "    .dataframe thead th {\n",
       "        text-align: right;\n",
       "    }\n",
       "</style>\n",
       "<table border=\"1\" class=\"dataframe\">\n",
       "  <thead>\n",
       "    <tr style=\"text-align: right;\">\n",
       "      <th></th>\n",
       "      <th>name</th>\n",
       "      <th>airways</th>\n",
       "    </tr>\n",
       "  </thead>\n",
       "  <tbody>\n",
       "    <tr>\n",
       "      <th>0</th>\n",
       "      <td>United States</td>\n",
       "      <td>13513</td>\n",
       "    </tr>\n",
       "    <tr>\n",
       "      <th>1</th>\n",
       "      <td>Brazil</td>\n",
       "      <td>4093</td>\n",
       "    </tr>\n",
       "    <tr>\n",
       "      <th>2</th>\n",
       "      <td>Mexico</td>\n",
       "      <td>1714</td>\n",
       "    </tr>\n",
       "    <tr>\n",
       "      <th>3</th>\n",
       "      <td>Canada</td>\n",
       "      <td>1467</td>\n",
       "    </tr>\n",
       "    <tr>\n",
       "      <th>4</th>\n",
       "      <td>Russia</td>\n",
       "      <td>1218</td>\n",
       "    </tr>\n",
       "    <tr>\n",
       "      <th>...</th>\n",
       "      <td>...</td>\n",
       "      <td>...</td>\n",
       "    </tr>\n",
       "    <tr>\n",
       "      <th>232</th>\n",
       "      <td>Saint Barthelemy</td>\n",
       "      <td>1</td>\n",
       "    </tr>\n",
       "    <tr>\n",
       "      <th>233</th>\n",
       "      <td>Saint Martin</td>\n",
       "      <td>1</td>\n",
       "    </tr>\n",
       "    <tr>\n",
       "      <th>234</th>\n",
       "      <td>Sint Maarten</td>\n",
       "      <td>1</td>\n",
       "    </tr>\n",
       "    <tr>\n",
       "      <th>235</th>\n",
       "      <td>Tuvalu</td>\n",
       "      <td>1</td>\n",
       "    </tr>\n",
       "    <tr>\n",
       "      <th>236</th>\n",
       "      <td>Wake Island</td>\n",
       "      <td>1</td>\n",
       "    </tr>\n",
       "  </tbody>\n",
       "</table>\n",
       "<p>237 rows × 2 columns</p>\n",
       "</div>"
      ],
      "text/plain": [
       "                 name  airways\n",
       "0       United States    13513\n",
       "1              Brazil     4093\n",
       "2              Mexico     1714\n",
       "3              Canada     1467\n",
       "4              Russia     1218\n",
       "..                ...      ...\n",
       "232  Saint Barthelemy        1\n",
       "233      Saint Martin        1\n",
       "234      Sint Maarten        1\n",
       "235            Tuvalu        1\n",
       "236       Wake Island        1\n",
       "\n",
       "[237 rows x 2 columns]"
      ]
     },
     "execution_count": 15,
     "metadata": {},
     "output_type": "execute_result"
    }
   ],
   "source": [
    "AirwaysData.rename(columns={'value':'airways'},inplace=True)\n",
    "AirwaysData.drop(columns=['slug'],inplace=True)\n",
    "AirwaysData"
   ]
  },
  {
   "cell_type": "code",
   "execution_count": null,
   "id": "e527a25c",
   "metadata": {},
   "outputs": [],
   "source": []
  }
 ],
 "metadata": {
  "kernelspec": {
   "display_name": "Python 3 (ipykernel)",
   "language": "python",
   "name": "python3"
  },
  "language_info": {
   "codemirror_mode": {
    "name": "ipython",
    "version": 3
   },
   "file_extension": ".py",
   "mimetype": "text/x-python",
   "name": "python",
   "nbconvert_exporter": "python",
   "pygments_lexer": "ipython3",
   "version": "3.9.7"
  }
 },
 "nbformat": 4,
 "nbformat_minor": 5
}
